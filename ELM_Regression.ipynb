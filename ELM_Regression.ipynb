{
  "nbformat": 4,
  "nbformat_minor": 0,
  "metadata": {
    "colab": {
      "name": "ELM_Regression.ipynb",
      "provenance": [],
      "include_colab_link": true
    },
    "kernelspec": {
      "name": "python3",
      "display_name": "Python 3"
    },
    "accelerator": "GPU"
  },
  "cells": [
    {
      "cell_type": "markdown",
      "metadata": {
        "id": "view-in-github",
        "colab_type": "text"
      },
      "source": [
        "<a href=\"https://colab.research.google.com/github/shreya0202/Extreme-Learning-Machine/blob/main/ELM_Regression.ipynb\" target=\"_parent\"><img src=\"https://colab.research.google.com/assets/colab-badge.svg\" alt=\"Open In Colab\"/></a>"
      ]
    },
    {
      "cell_type": "code",
      "metadata": {
        "id": "9C5TPZbCadop",
        "colab": {
          "base_uri": "https://localhost:8080/",
          "height": 250
        },
        "outputId": "fc0d316a-601d-48d2-86ea-5c81c32d7a7a"
      },
      "source": [
        "pip install pyswarms"
      ],
      "execution_count": null,
      "outputs": [
        {
          "output_type": "stream",
          "text": [
            "Requirement already satisfied: pyswarms in /usr/local/lib/python3.6/dist-packages (1.1.0)\n",
            "Requirement already satisfied: matplotlib>=1.3.1 in /usr/local/lib/python3.6/dist-packages (from pyswarms) (3.2.2)\n",
            "Requirement already satisfied: numpy in /usr/local/lib/python3.6/dist-packages (from pyswarms) (1.18.5)\n",
            "Requirement already satisfied: tqdm in /usr/local/lib/python3.6/dist-packages (from pyswarms) (4.41.1)\n",
            "Requirement already satisfied: future in /usr/local/lib/python3.6/dist-packages (from pyswarms) (0.16.0)\n",
            "Requirement already satisfied: scipy in /usr/local/lib/python3.6/dist-packages (from pyswarms) (1.4.1)\n",
            "Requirement already satisfied: attrs in /usr/local/lib/python3.6/dist-packages (from pyswarms) (20.2.0)\n",
            "Requirement already satisfied: pyparsing!=2.0.4,!=2.1.2,!=2.1.6,>=2.0.1 in /usr/local/lib/python3.6/dist-packages (from matplotlib>=1.3.1->pyswarms) (2.4.7)\n",
            "Requirement already satisfied: kiwisolver>=1.0.1 in /usr/local/lib/python3.6/dist-packages (from matplotlib>=1.3.1->pyswarms) (1.2.0)\n",
            "Requirement already satisfied: python-dateutil>=2.1 in /usr/local/lib/python3.6/dist-packages (from matplotlib>=1.3.1->pyswarms) (2.8.1)\n",
            "Requirement already satisfied: cycler>=0.10 in /usr/local/lib/python3.6/dist-packages (from matplotlib>=1.3.1->pyswarms) (0.10.0)\n",
            "Requirement already satisfied: six>=1.5 in /usr/local/lib/python3.6/dist-packages (from python-dateutil>=2.1->matplotlib>=1.3.1->pyswarms) (1.15.0)\n"
          ],
          "name": "stdout"
        }
      ]
    },
    {
      "cell_type": "code",
      "metadata": {
        "id": "qSho-c_WPx0V",
        "colab": {
          "base_uri": "https://localhost:8080/",
          "height": 52
        },
        "outputId": "90353f81-ca48-441a-bbde-498a7c7656b7"
      },
      "source": [
        "import numpy as np\n",
        "import scipy\n",
        "from matplotlib import pyplot as plt\n",
        "import pandas as pd\n",
        "import random\n",
        "import time\n",
        "import math\n",
        "import csv\n",
        "from sklearn.model_selection import train_test_split\n",
        "from sklearn.metrics import mean_squared_error\n",
        "from sklearn import preprocessing\n",
        "from sklearn.preprocessing import Normalizer\n",
        "import pyswarms as ps\n",
        "from pyswarms.backend.topology import Pyramid\n",
        "from pyswarms.single.global_best import GlobalBestPSO\n",
        "%load_ext autoreload\n",
        "%autoreload 2"
      ],
      "execution_count": null,
      "outputs": [
        {
          "output_type": "stream",
          "text": [
            "The autoreload extension is already loaded. To reload it, use:\n",
            "  %reload_ext autoreload\n"
          ],
          "name": "stdout"
        }
      ]
    },
    {
      "cell_type": "code",
      "metadata": {
        "id": "BuJC-Vu1nlh5",
        "colab": {
          "base_uri": "https://localhost:8080/",
          "height": 70
        },
        "outputId": "5cf39ff6-d356-4b54-bfba-044ec5667afe"
      },
      "source": [
        "# Read csv file into dataframe\n",
        "data = pd.read_csv('/content/drive/My Drive/supercon_temp.csv')\n",
        "# Seperating target and input data\n",
        "input_data = data.iloc[:, :-1]\n",
        "target_data = data.iloc[:, -1]\n",
        "# Normalizing data\n",
        "norm = Normalizer()\n",
        "input = norm.fit_transform(input_data)\n",
        "# Convert input and output dataframes to lists\n",
        "x = input.tolist()\n",
        "print(np.shape(x))\n",
        "y = target_data.values.tolist()\n",
        "print(np.shape(y))\n",
        "y = np.reshape(y, (len(y), 1))\n",
        "print(np.shape(y))\n",
        "x_train, x_test, y_train, y_test = train_test_split(x, y, test_size=0.3)\n",
        "\n",
        "x_train =  np.array(x_train)\n",
        "y_train =  np.array(y_train)\n",
        "x_test =  np.array(x_test)\n",
        "y_test =  np.array(y_test)"
      ],
      "execution_count": null,
      "outputs": [
        {
          "output_type": "stream",
          "text": [
            "(21263, 81)\n",
            "(21263,)\n",
            "(21263, 1)\n"
          ],
          "name": "stdout"
        }
      ]
    },
    {
      "cell_type": "code",
      "metadata": {
        "id": "jf0YIzqqToBw"
      },
      "source": [
        "# Visualization of RMSEs\n",
        "def visualize(hnode, rmse):\n",
        "  import matplotlib.pyplot as plt\n",
        "  x_s = hnode \n",
        "  y_s = rmse\n",
        "\n",
        "  plt.plot(x_s, y_s, '-b', label='Train RMSEs')\n",
        "  plt.legend(loc='upper right')\n",
        "  plt.xlabel(\"Number of Hidden Nodes\")\n",
        "  plt.ylabel(\"Training RMSEs\")\n",
        "  plt.show()"
      ],
      "execution_count": null,
      "outputs": []
    },
    {
      "cell_type": "code",
      "metadata": {
        "id": "BZiLpiHu2egc"
      },
      "source": [
        "def first_step(x, input_wt):\n",
        "    a = np.dot(x, input_wt)\n",
        "    a = np.maximum(a, 0, a) # ReLU activation\n",
        "    return a"
      ],
      "execution_count": null,
      "outputs": []
    },
    {
      "cell_type": "code",
      "metadata": {
        "id": "WPBQBTGERPMW"
      },
      "source": [
        "# Training Function\n",
        "def model_training(x):\n",
        "  initial_weight = []\n",
        "  beta_wt_list = []\n",
        "  nodes = []\n",
        "  rmses_ = []\n",
        "  random_zeroes = np.zeros((len(y_train), len(np.transpose(y_train))))\n",
        "  rmse_score = np.round(math.sqrt(mean_squared_error(y_train, random_zeroes)), 2)\n",
        "  print(\"\\n\\n----------Training----------\")\n",
        "  start_time = time.time()\n",
        "  random_nodes = 0\n",
        "  while (rmse_score > 10 and random_nodes < 80):\n",
        "      random_nodes += 1\n",
        "      nodes.append(random_nodes)\n",
        "      print(\"The added hidden node is = {}\".format(random_nodes))  \n",
        "      rand_wt = np.random.rand(len(np.transpose(x)), 1)\n",
        "      if(random_nodes == 1):\n",
        "          initial_weight = rand_wt\n",
        "      else:    \n",
        "          initial_weight = np.hstack((initial_weight, rand_wt))\n",
        " \n",
        "      H = first_step(x, initial_weight)\n",
        "   \n",
        "      inverse_H = np.linalg.pinv(H)\n",
        "      beta_wt = np.dot(inverse_H, y_train)\n",
        "      beta_wt_list = beta_wt\n",
        "      y_out = np.dot(H, beta_wt)\n",
        "      predicted_y = np.transpose(y_out)[0]\n",
        "      actual_y = np.transpose(y_train)[0]\n",
        "      rmse_sc = np.round(math.sqrt(mean_squared_error(actual_y, predicted_y)), 2)\n",
        "      rmses_.append(rmse_sc)\n",
        "      if(random_nodes%10 == 0):\n",
        "          print(\"\\nFor {} hidden-nodes the train rmses is : {}\\n\".format(random_nodes, rmse_sc))\n",
        "      \n",
        "  stop_time = time.time()\n",
        "  print(\"\\nTotal hidden nodes at the end is: {}\".format(random_nodes))\n",
        "  print(\"\\nTraining time: {} seconds\".format(np.round((stop_time - start_time), 3)))\n",
        "\n",
        "  # visualize(nodes, rmses_)\n",
        "\n",
        "  return random_nodes, initial_weight, rmses_, nodes"
      ],
      "execution_count": null,
      "outputs": []
    },
    {
      "cell_type": "code",
      "metadata": {
        "id": "HDzsiBi8Tx4k"
      },
      "source": [
        "# Testing Function\n",
        "def model_testing(initial_weight, random_nodes):\n",
        "  print(\"\\n\\n----------Testing----------\")\n",
        "  start_test_time = time.time()\n",
        "  h_nodes = random_nodes\n",
        "  H_test = first_step(x_test, initial_weight)      \n",
        "  H_test_inv = np.linalg.pinv(H_test)\n",
        "  beta_test = np.dot(H_test_inv, y_test)\n",
        "  predicted_test_y = np.dot(H_test, beta_test)\n",
        "  rmse_score = np.round(math.sqrt(mean_squared_error(y_test, predicted_test_y)), 2)\n",
        "  print(\"\\nFor {} hidden-nodes test rmse is: {}\".format(random_nodes, rmse_score))\n",
        "  stop_test_time = time.time()\n",
        "  print(\"\\nTesting time: {} seconds\".format(np.round((stop_test_time - start_test_time), 3)))"
      ],
      "execution_count": null,
      "outputs": []
    },
    {
      "cell_type": "code",
      "metadata": {
        "id": "9-_TD1hv4tpV",
        "colab": {
          "base_uri": "https://localhost:8080/",
          "height": 1000
        },
        "outputId": "301e9a11-9569-4aa4-da78-de3f2ab7544c"
      },
      "source": [
        "print(\"-----Non Optimal Training----\")\n",
        "final_random_nodes, final_init_wt, final_rmses, node_list = model_training(x_train)\n",
        "print()\n",
        "visualize(node_list, final_rmses)\n",
        "print()\n",
        "print(\"----Non Optimal Testing-----\")\n",
        "print()\n",
        "model_testing(final_init_wt, final_random_nodes)"
      ],
      "execution_count": null,
      "outputs": [
        {
          "output_type": "stream",
          "text": [
            "-----Non Optimal Training----\n",
            "\n",
            "\n",
            "----------Training----------\n",
            "The added hidden node is = 1\n",
            "The added hidden node is = 2\n",
            "The added hidden node is = 3\n",
            "The added hidden node is = 4\n",
            "The added hidden node is = 5\n",
            "The added hidden node is = 6\n",
            "The added hidden node is = 7\n",
            "The added hidden node is = 8\n",
            "The added hidden node is = 9\n",
            "The added hidden node is = 10\n",
            "\n",
            "For 10 hidden-nodes the train rmses is : 26.31\n",
            "\n",
            "The added hidden node is = 11\n",
            "The added hidden node is = 12\n",
            "The added hidden node is = 13\n",
            "The added hidden node is = 14\n",
            "The added hidden node is = 15\n",
            "The added hidden node is = 16\n",
            "The added hidden node is = 17\n",
            "The added hidden node is = 18\n",
            "The added hidden node is = 19\n",
            "The added hidden node is = 20\n",
            "\n",
            "For 20 hidden-nodes the train rmses is : 22.47\n",
            "\n",
            "The added hidden node is = 21\n",
            "The added hidden node is = 22\n",
            "The added hidden node is = 23\n",
            "The added hidden node is = 24\n",
            "The added hidden node is = 25\n",
            "The added hidden node is = 26\n",
            "The added hidden node is = 27\n",
            "The added hidden node is = 28\n",
            "The added hidden node is = 29\n",
            "The added hidden node is = 30\n",
            "\n",
            "For 30 hidden-nodes the train rmses is : 21.21\n",
            "\n",
            "The added hidden node is = 31\n",
            "The added hidden node is = 32\n",
            "The added hidden node is = 33\n",
            "The added hidden node is = 34\n",
            "The added hidden node is = 35\n",
            "The added hidden node is = 36\n",
            "The added hidden node is = 37\n",
            "The added hidden node is = 38\n",
            "The added hidden node is = 39\n",
            "The added hidden node is = 40\n",
            "\n",
            "For 40 hidden-nodes the train rmses is : 20.28\n",
            "\n",
            "The added hidden node is = 41\n",
            "The added hidden node is = 42\n",
            "The added hidden node is = 43\n",
            "The added hidden node is = 44\n",
            "The added hidden node is = 45\n",
            "The added hidden node is = 46\n",
            "The added hidden node is = 47\n",
            "The added hidden node is = 48\n",
            "The added hidden node is = 49\n",
            "The added hidden node is = 50\n",
            "\n",
            "For 50 hidden-nodes the train rmses is : 18.95\n",
            "\n",
            "The added hidden node is = 51\n",
            "The added hidden node is = 52\n",
            "The added hidden node is = 53\n",
            "The added hidden node is = 54\n",
            "The added hidden node is = 55\n",
            "The added hidden node is = 56\n",
            "The added hidden node is = 57\n",
            "The added hidden node is = 58\n",
            "The added hidden node is = 59\n",
            "The added hidden node is = 60\n",
            "\n",
            "For 60 hidden-nodes the train rmses is : 18.72\n",
            "\n",
            "The added hidden node is = 61\n",
            "The added hidden node is = 62\n",
            "The added hidden node is = 63\n",
            "The added hidden node is = 64\n",
            "The added hidden node is = 65\n",
            "The added hidden node is = 66\n",
            "The added hidden node is = 67\n",
            "The added hidden node is = 68\n",
            "The added hidden node is = 69\n",
            "The added hidden node is = 70\n",
            "\n",
            "For 70 hidden-nodes the train rmses is : 18.49\n",
            "\n",
            "The added hidden node is = 71\n",
            "The added hidden node is = 72\n",
            "The added hidden node is = 73\n",
            "The added hidden node is = 74\n",
            "The added hidden node is = 75\n",
            "The added hidden node is = 76\n",
            "The added hidden node is = 77\n",
            "The added hidden node is = 78\n",
            "The added hidden node is = 79\n",
            "The added hidden node is = 80\n",
            "\n",
            "For 80 hidden-nodes the train rmses is : 18.34\n",
            "\n",
            "\n",
            "Total hidden nodes at the end is: 80\n",
            "\n",
            "Training time: 4.092 seconds\n",
            "\n"
          ],
          "name": "stdout"
        },
        {
          "output_type": "display_data",
          "data": {
            "image/png": "[encoded data removed]",
            "text/plain": [
              "<Figure size 432x288 with 1 Axes>"
            ]
          },
          "metadata": {
            "tags": [],
            "needs_background": "light"
          }
        },
        {
          "output_type": "stream",
          "text": [
            "\n",
            "----Non Optimal Testing-----\n",
            "\n",
            "\n",
            "\n",
            "----------Testing----------\n",
            "\n",
            "For 80 hidden-nodes test rmse is: 17.95\n",
            "\n",
            "Testing time: 0.055 seconds\n"
          ],
          "name": "stdout"
        }
      ]
    },
    {
      "cell_type": "code",
      "metadata": {
        "id": "EjAZ_Ef3Eaji"
      },
      "source": [
        "# options = {'c1': 1, 'c2': 3, 'w': 1}\n",
        "\n",
        "# # Call instance of PSO\n",
        "# optimizer = GlobalBestPSO(n_particles=x_train.shape[0], dimensions=x_train.shape[1],\n",
        "#                                     options=options)\n",
        "# print()\n",
        "# # Perform optimization\n",
        "# print(\"-----Optimal Training----\")\n",
        "# print()\n",
        "# op_random_nodes, op_init_wt, op_rmses, node_list = optimizer.optimize(model_training, iters = 1000)\n",
        "# print()\n",
        "# visualize(node_list, op_rmses)\n",
        "# print()\n",
        "# print(\"----Optimal Testing-----\")\n",
        "# model_testing(op_init_wt, op_random_nodes)"
      ],
      "execution_count": null,
      "outputs": []
    }
  ]
}