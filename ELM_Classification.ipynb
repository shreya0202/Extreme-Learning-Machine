{
  "nbformat": 4,
  "nbformat_minor": 0,
  "metadata": {
    "colab": {
      "name": "ELM_Classification.ipynb",
      "provenance": [],
      "collapsed_sections": [],
      "include_colab_link": true
    },
    "kernelspec": {
      "name": "python3",
      "display_name": "Python 3"
    }
  },
  "cells": [
    {
      "cell_type": "markdown",
      "metadata": {
        "id": "view-in-github",
        "colab_type": "text"
      },
      "source": [
        "<a href=\"https://colab.research.google.com/github/shreya0202/Extreme-Learning-Machine/blob/main/ELM_Classification.ipynb\" target=\"_parent\"><img src=\"https://colab.research.google.com/assets/colab-badge.svg\" alt=\"Open In Colab\"/></a>"
      ]
    },
    {
      "cell_type": "code",
      "metadata": {
        "id": "bKgis6Yvvdcg",
        "colab": {
          "base_uri": "https://localhost:8080/",
          "height": 230
        },
        "outputId": "798f1920-6b90-4a25-c5a8-6712b28cea06"
      },
      "source": [
        "pip install pyswarms"
      ],
      "execution_count": null,
      "outputs": [
        {
          "output_type": "stream",
          "text": [
            "Requirement already satisfied: pyswarms in /usr/local/lib/python3.6/dist-packages (1.1.0)\n",
            "Requirement already satisfied: future in /usr/local/lib/python3.6/dist-packages (from pyswarms) (0.16.0)\n",
            "Requirement already satisfied: numpy in /usr/local/lib/python3.6/dist-packages (from pyswarms) (1.18.5)\n",
            "Requirement already satisfied: scipy in /usr/local/lib/python3.6/dist-packages (from pyswarms) (1.4.1)\n",
            "Requirement already satisfied: attrs in /usr/local/lib/python3.6/dist-packages (from pyswarms) (20.2.0)\n",
            "Requirement already satisfied: matplotlib>=1.3.1 in /usr/local/lib/python3.6/dist-packages (from pyswarms) (3.2.2)\n",
            "Requirement already satisfied: tqdm in /usr/local/lib/python3.6/dist-packages (from pyswarms) (4.41.1)\n",
            "Requirement already satisfied: pyparsing!=2.0.4,!=2.1.2,!=2.1.6,>=2.0.1 in /usr/local/lib/python3.6/dist-packages (from matplotlib>=1.3.1->pyswarms) (2.4.7)\n",
            "Requirement already satisfied: python-dateutil>=2.1 in /usr/local/lib/python3.6/dist-packages (from matplotlib>=1.3.1->pyswarms) (2.8.1)\n",
            "Requirement already satisfied: kiwisolver>=1.0.1 in /usr/local/lib/python3.6/dist-packages (from matplotlib>=1.3.1->pyswarms) (1.2.0)\n",
            "Requirement already satisfied: cycler>=0.10 in /usr/local/lib/python3.6/dist-packages (from matplotlib>=1.3.1->pyswarms) (0.10.0)\n",
            "Requirement already satisfied: six>=1.5 in /usr/local/lib/python3.6/dist-packages (from python-dateutil>=2.1->matplotlib>=1.3.1->pyswarms) (1.15.0)\n"
          ],
          "name": "stdout"
        }
      ]
    },
    {
      "cell_type": "code",
      "metadata": {
        "id": "Ldr1huZqIwU5"
      },
      "source": [
        "import pandas as pd\n",
        "import numpy as np\n",
        "import matplotlib.pyplot as plt\n",
        "from sklearn.model_selection import train_test_split\n",
        "import time\n",
        "import pyswarms as ps\n",
        "from pyswarms.backend.topology import Pyramid\n",
        "from pyswarms.single.global_best import GlobalBestPSO"
      ],
      "execution_count": null,
      "outputs": []
    },
    {
      "cell_type": "code",
      "metadata": {
        "id": "3FcDO9BEseFB"
      },
      "source": [
        "def make_half_moons(n_samples, radius, width, distance):\n",
        "    # Initialise dummy variables\n",
        "    num_rows = 3\n",
        "    num_cols = n_samples\n",
        "    r = radius\n",
        "    w = width\n",
        "    d = distance\n",
        "    \n",
        "    # Check for boundary conditions\n",
        "    if(r < w/2):\n",
        "        print(\"\\nError: Radius should atleast be larger than half the width.\")\n",
        "            \n",
        "    if(num_cols%2 != 0):\n",
        "        print(\"\\nError: Number of samples should be even.\")\n",
        "        num_cols -= 1\n",
        "    \n",
        "    # Create random 2D array of floats between 0.0 and 1.0\n",
        "    a = np.random.rand(num_rows, num_cols//2)\n",
        "    \n",
        "    # Define rad for first half of records\n",
        "    rad = (r - w/2) + w*a[0][:]\n",
        "    \n",
        "    # Define theta for second half of records\n",
        "    theta = np.pi*a[1][:]\n",
        "    \n",
        "    # Create data-set\n",
        "    # First half-moon data\n",
        "    x1 = np.multiply(rad, np.cos(theta))\n",
        "    y1 = np.multiply(rad, np.sin(theta))\n",
        "    label1 = 1*np.ones((1, len(x1)), dtype=int)\n",
        "    label1 = np.hstack(label1)\n",
        "    \n",
        "    # Second half-moon data\n",
        "    x2 = np.multiply(rad, np.cos(-theta)) + r\n",
        "    y2 = np.multiply(rad, np.sin(-theta)) - d\n",
        "    label2 = 0*np.ones((1, len(x2)), dtype=int)\n",
        "    label2 = np.hstack(label2)\n",
        "    \n",
        "    # Create dataset by combining all values of x's and y's and\n",
        "    # labels, and shuffling them randomly.\n",
        "    x = np.concatenate((x1, x2))\n",
        "    y = np.concatenate((y1, y2))\n",
        "    labels = np.concatenate((label1, label2))\n",
        "    \n",
        "    # Create coordinate-type dataset from individual values\n",
        "    # so that we have a dataset of type Xi = [[x, y], label]\n",
        "    X = np.zeros((len(x), 2))\n",
        "    k = 0\n",
        "    for i, j in zip(x, y):\n",
        "        X[k][0] = i\n",
        "        X[k][1] = j\n",
        "        k += 1\n",
        "\n",
        "    data_set = [X, labels]\n",
        "        \n",
        "    # Plot a half-moon graph for given dataset\n",
        "    plt.plot(x1, y1, \"r.\", x2, y2, \"b.\")\n",
        "    plt.show()\n",
        "    \n",
        "    return data_set"
      ],
      "execution_count": null,
      "outputs": []
    },
    {
      "cell_type": "code",
      "metadata": {
        "id": "PvbwHs6usk0l",
        "colab": {
          "base_uri": "https://localhost:8080/",
          "height": 267
        },
        "outputId": "42ea16e6-372c-4f05-a171-4d75e6ea69c9"
      },
      "source": [
        "# Create data by calling make_half_moons method\n",
        "data = make_half_moons(4000, 10, 8, 0)\n",
        "# Split data into training and testing sets\n",
        "x_train, x_test, y_train, y_test = train_test_split(data[0], data[1], test_size=0.5, random_state=42)"
      ],
      "execution_count": null,
      "outputs": [
        {
          "output_type": "display_data",
          "data": {
            "image/png": "[encoded data removed]",
            "text/plain": [
              "<Figure size 432x288 with 1 Axes>"
            ]
          },
          "metadata": {
            "tags": [],
            "needs_background": "light"
          }
        }
      ]
    },
    {
      "cell_type": "code",
      "metadata": {
        "id": "rjvS7hD812Vi",
        "colab": {
          "base_uri": "https://localhost:8080/",
          "height": 35
        },
        "outputId": "87bed6af-b594-4e71-b364-e95caf224924"
      },
      "source": [
        "x_train.shape"
      ],
      "execution_count": null,
      "outputs": [
        {
          "output_type": "execute_result",
          "data": {
            "text/plain": [
              "(2000, 2)"
            ]
          },
          "metadata": {
            "tags": []
          },
          "execution_count": 48
        }
      ]
    },
    {
      "cell_type": "code",
      "metadata": {
        "id": "OO-rgd_KUoR9",
        "colab": {
          "base_uri": "https://localhost:8080/",
          "height": 35
        },
        "outputId": "df97061f-6e73-4929-8851-bba8453440ca"
      },
      "source": [
        "y_train.shape"
      ],
      "execution_count": null,
      "outputs": [
        {
          "output_type": "execute_result",
          "data": {
            "text/plain": [
              "(2000,)"
            ]
          },
          "metadata": {
            "tags": []
          },
          "execution_count": 28
        }
      ]
    },
    {
      "cell_type": "code",
      "metadata": {
        "id": "Y2hPrMfuK7zr"
      },
      "source": [
        "def first_step(x, input_wt):\n",
        "    a = np.dot(x, input_wt)\n",
        "    a = np.maximum(a, 0) # ReLU activation  # check if needed 3rd arg\n",
        "    return a"
      ],
      "execution_count": null,
      "outputs": []
    },
    {
      "cell_type": "code",
      "metadata": {
        "id": "hJ4XFp2e1kZQ"
      },
      "source": [
        "# Visualization of accuracies\n",
        "def visualize(hnode, acc):\n",
        "  import matplotlib.pyplot as plt\n",
        "  x_s = hnode \n",
        "  y_s = acc\n",
        "\n",
        "  plt.plot(x_s, y_s, '-b', label='Train Accuracies')\n",
        "  plt.legend(loc='lower right')\n",
        "  plt.xlabel(\"Number of Hidden Nodes\")\n",
        "  plt.ylabel(\"Training Accuracies\")\n",
        "  plt.show()"
      ],
      "execution_count": null,
      "outputs": []
    },
    {
      "cell_type": "code",
      "metadata": {
        "id": "7jJCDJ3XJ2eG"
      },
      "source": [
        "def training(x):\n",
        "  random_nodes = 0\n",
        "  initial_weight = []\n",
        "  nodes = []\n",
        "  accuracies = []\n",
        "  accuracy_ = 0\n",
        "  start_time = time.time() # Initializing start time\n",
        "  while (accuracy_ < 95 and random_nodes < 100):\n",
        "      random_nodes += 1 # Increase by 1 the random hidden node\n",
        "      nodes.append(random_nodes)\n",
        "      print(\"The added hidden node is = {}\".format(random_nodes))   \n",
        "      rand_wt = np.random.rand(len(np.transpose(x)), 1) #random wt initialized\n",
        "      if (random_nodes == 1):\n",
        "          initial_weight = rand_wt\n",
        "      else:    \n",
        "          initial_weight = np.hstack((initial_weight, rand_wt)) # stacking the sequence of input arrays into single weight array\n",
        "      H = first_step(x, initial_weight)\n",
        "      # print('H- shape for {} nodes = {}'.format(random_nodes, np.shape(H)))\n",
        "      # print(\"First \", H)\n",
        "      Ht = np.transpose(H)\n",
        "      hinv = np.linalg.pinv(H)\n",
        "      beta_wt = np.dot(hinv, y_train)\n",
        "      # print(\"Beta \", beta_wt)\n",
        "      d = np.dot(H, beta_wt)  \n",
        "      correct = 0\n",
        "      total = y_train.shape[0]\n",
        "      for i in range(total):\n",
        "          if d[i] > 0.5:\n",
        "              predicted = 1\n",
        "          else:\n",
        "              predicted = 0\n",
        "          test = y_train[i]\n",
        "          if predicted == test:\n",
        "              correct += 1\n",
        "      \n",
        "      # print(\"correct: \", correct)\n",
        "      # Accuracy Calculated       \n",
        "      accuracy_ = np.round((correct/total) * 100, 2)\n",
        "      accuracies.append(accuracy_)\n",
        "      if(random_nodes%10 == 0):\n",
        "                print(\"\\n For {} hidden-nodes the training classification accuracy is: {}%\\n\".format(random_nodes, accuracy_))\n",
        "  stop_time = time.time()\n",
        "  print(\"\\nTotal hidden nodes at the end is: {}\".format(random_nodes))\n",
        "  print(\"\\nTraining time: {} seconds\".format(np.round((stop_time - start_time), 3)))\n",
        "  # visualize(nodes, accuracies)\n",
        "\n",
        "  return random_nodes, initial_weight, beta_wt, accuracies, nodes"
      ],
      "execution_count": null,
      "outputs": []
    },
    {
      "cell_type": "code",
      "metadata": {
        "id": "eZxRc099YH5h"
      },
      "source": [
        "def testing(random_nodes, initial_weight, beta_wt):\n",
        "  start_test_time = time.time()\n",
        "  h_nodes = random_nodes\n",
        "  H_test = first_step(x_test, initial_weight)\n",
        "  d = np.dot(H_test, beta_wt) # Output Weight \n",
        "  correct = 0\n",
        "  total = d.shape[0]\n",
        "  for i in range(total):\n",
        "      if d[i] > 0.5:\n",
        "          predicted = 1\n",
        "      else:\n",
        "          predicted = 0\n",
        "      test = y_test[i]\n",
        "      if predicted == test:\n",
        "          correct += 1\n",
        "  \n",
        "  # print(\"correct: \", correct)\n",
        "  # Accuracy Calculated       \n",
        "  accuracy_ = np.round((correct/total) * 100, 2)\n",
        "  print(\"Accuracy : \", accuracy_)\n",
        "  stop_test_time = time.time()\n",
        "  print(\"For {} hidden-nodes the testing classification accuracy : {}%\".format(h_nodes, accuracy_))\n",
        "  print(\"\\nTesting time: {} seconds\".format(np.round((stop_test_time - start_test_time), 3)))"
      ],
      "execution_count": null,
      "outputs": []
    },
    {
      "cell_type": "code",
      "metadata": {
        "id": "JMcIPPJE1ONd",
        "colab": {
          "base_uri": "https://localhost:8080/",
          "height": 1000
        },
        "outputId": "b181c2d1-00dc-490b-e08a-8ddf7c30c7d9"
      },
      "source": [
        "print(\"-----Training----\")\n",
        "print()\n",
        "final_random_nodes, final_init_wt, final_beta_wt, final_accuracies, node_list = training(x_train)\n",
        "print()\n",
        "visualize(node_list, final_accuracies)\n",
        "print()\n",
        "print(\"----Testing-----\")\n",
        "print()\n",
        "testing(final_random_nodes, final_init_wt, final_beta_wt)"
      ],
      "execution_count": null,
      "outputs": [
        {
          "output_type": "stream",
          "text": [
            "-----Non Optimal Training----\n",
            "\n",
            "The added hidden node is = 1\n",
            "The added hidden node is = 2\n",
            "The added hidden node is = 3\n",
            "The added hidden node is = 4\n",
            "The added hidden node is = 5\n",
            "The added hidden node is = 6\n",
            "The added hidden node is = 7\n",
            "The added hidden node is = 8\n",
            "The added hidden node is = 9\n",
            "The added hidden node is = 10\n",
            "\n",
            " For 10 hidden-nodes the training classification accuracy is: 85.95%\n",
            "\n",
            "The added hidden node is = 11\n",
            "The added hidden node is = 12\n",
            "The added hidden node is = 13\n",
            "The added hidden node is = 14\n",
            "The added hidden node is = 15\n",
            "The added hidden node is = 16\n",
            "The added hidden node is = 17\n",
            "The added hidden node is = 18\n",
            "The added hidden node is = 19\n",
            "The added hidden node is = 20\n",
            "\n",
            " For 20 hidden-nodes the training classification accuracy is: 86.2%\n",
            "\n",
            "The added hidden node is = 21\n",
            "The added hidden node is = 22\n",
            "The added hidden node is = 23\n",
            "The added hidden node is = 24\n",
            "The added hidden node is = 25\n",
            "The added hidden node is = 26\n",
            "The added hidden node is = 27\n",
            "The added hidden node is = 28\n",
            "The added hidden node is = 29\n",
            "The added hidden node is = 30\n",
            "\n",
            " For 30 hidden-nodes the training classification accuracy is: 86.45%\n",
            "\n",
            "The added hidden node is = 31\n",
            "The added hidden node is = 32\n",
            "The added hidden node is = 33\n",
            "The added hidden node is = 34\n",
            "The added hidden node is = 35\n",
            "The added hidden node is = 36\n",
            "The added hidden node is = 37\n",
            "The added hidden node is = 38\n",
            "The added hidden node is = 39\n",
            "The added hidden node is = 40\n",
            "\n",
            " For 40 hidden-nodes the training classification accuracy is: 86.4%\n",
            "\n",
            "The added hidden node is = 41\n",
            "The added hidden node is = 42\n",
            "The added hidden node is = 43\n",
            "The added hidden node is = 44\n",
            "The added hidden node is = 45\n",
            "The added hidden node is = 46\n",
            "The added hidden node is = 47\n",
            "The added hidden node is = 48\n",
            "The added hidden node is = 49\n",
            "The added hidden node is = 50\n",
            "\n",
            " For 50 hidden-nodes the training classification accuracy is: 86.65%\n",
            "\n",
            "The added hidden node is = 51\n",
            "The added hidden node is = 52\n",
            "The added hidden node is = 53\n",
            "The added hidden node is = 54\n",
            "The added hidden node is = 55\n",
            "The added hidden node is = 56\n",
            "The added hidden node is = 57\n",
            "The added hidden node is = 58\n",
            "The added hidden node is = 59\n",
            "The added hidden node is = 60\n",
            "\n",
            " For 60 hidden-nodes the training classification accuracy is: 86.6%\n",
            "\n",
            "The added hidden node is = 61\n",
            "The added hidden node is = 62\n",
            "The added hidden node is = 63\n",
            "The added hidden node is = 64\n",
            "The added hidden node is = 65\n",
            "The added hidden node is = 66\n",
            "The added hidden node is = 67\n",
            "The added hidden node is = 68\n",
            "The added hidden node is = 69\n",
            "The added hidden node is = 70\n",
            "\n",
            " For 70 hidden-nodes the training classification accuracy is: 86.7%\n",
            "\n",
            "The added hidden node is = 71\n",
            "The added hidden node is = 72\n",
            "The added hidden node is = 73\n",
            "The added hidden node is = 74\n",
            "The added hidden node is = 75\n",
            "The added hidden node is = 76\n",
            "The added hidden node is = 77\n",
            "The added hidden node is = 78\n",
            "The added hidden node is = 79\n",
            "The added hidden node is = 80\n",
            "\n",
            " For 80 hidden-nodes the training classification accuracy is: 86.9%\n",
            "\n",
            "The added hidden node is = 81\n",
            "The added hidden node is = 82\n",
            "The added hidden node is = 83\n",
            "The added hidden node is = 84\n",
            "The added hidden node is = 85\n",
            "The added hidden node is = 86\n",
            "The added hidden node is = 87\n",
            "The added hidden node is = 88\n",
            "The added hidden node is = 89\n",
            "The added hidden node is = 90\n",
            "\n",
            " For 90 hidden-nodes the training classification accuracy is: 86.85%\n",
            "\n",
            "The added hidden node is = 91\n",
            "The added hidden node is = 92\n",
            "The added hidden node is = 93\n",
            "The added hidden node is = 94\n",
            "The added hidden node is = 95\n",
            "The added hidden node is = 96\n",
            "The added hidden node is = 97\n",
            "The added hidden node is = 98\n",
            "The added hidden node is = 99\n",
            "The added hidden node is = 100\n",
            "\n",
            " For 100 hidden-nodes the training classification accuracy is: 86.8%\n",
            "\n",
            "\n",
            "Total hidden nodes at the end is: 100\n",
            "\n",
            "Training time: 1.438 seconds\n",
            "\n"
          ],
          "name": "stdout"
        },
        {
          "output_type": "display_data",
          "data": {
            "image/png": "[encoded data removed]",
            "text/plain": [
              "<Figure size 432x288 with 1 Axes>"
            ]
          },
          "metadata": {
            "tags": [],
            "needs_background": "light"
          }
        },
        {
          "output_type": "stream",
          "text": [
            "\n",
            "----Non Optimal Testing-----\n",
            "\n",
            "Accuracy :  86.75\n",
            "For 100 hidden-nodes the testing classification accuracy : 86.75%\n",
            "\n",
            "Testing time: 0.011 seconds\n"
          ],
          "name": "stdout"
        }
      ]
    },
    {
      "cell_type": "code",
      "metadata": {
        "id": "eOyFhGUbvBFN"
      },
      "source": [
        "# options = {'c1': 1, 'c2': 3, 'w': 1}\n",
        "# # my_topology = Pyramid(static=False)\n",
        "\n",
        "# # Call instance of PSO\n",
        "# # dimensions = (n_inputs * n_hidden) + (n_hidden * n_classes) + n_hidden + n_classes\n",
        "# optimizer = GlobalBestPSO(n_particles=x_train.shape[0], dimensions=x_train.shape[1],\n",
        "#                                     options=options)\n",
        "# print()\n",
        "# print()\n",
        "# # Perform optimization\n",
        "# print(\"-----Optimal Training----\")\n",
        "# print()\n",
        "# op_random_nodes, op_init_wt, op_beta_wt, op_accuracies, node_list = optimizer.optimize(training, iters = 1000)\n",
        "# print()\n",
        "# visualize(node_list, op_accuracies)\n",
        "# print()\n",
        "# print(\"----Optimal Testing-----\")\n",
        "# print()\n",
        "# testing(op_random_nodes, op_init_wt, op_beta_wt)"
      ],
      "execution_count": null,
      "outputs": []
    }
  ]
}